{
  "nbformat": 4,
  "nbformat_minor": 0,
  "metadata": {
    "colab": {
      "provenance": []
    },
    "kernelspec": {
      "name": "python3",
      "display_name": "Python 3"
    },
    "language_info": {
      "name": "python"
    }
  },
  "cells": [
    {
      "cell_type": "code",
      "source": [
        "import numpy as np\n",
        "import pandas as pd\n",
        "from sklearn.model_selection import train_test_split\n",
        "from sklearn.linear_model import LinearRegression\n",
        "from sklearn.metrics import mean_squared_error,mean_absolute_error\n",
        "from sklearn.metrics import r2_score as r2\n",
        "import statsmodels.api as sm"
      ],
      "metadata": {
        "id": "cpxyP_2LAoIH"
      },
      "execution_count": 1,
      "outputs": []
    },
    {
      "cell_type": "code",
      "source": [
        "from sklearn.tree import DecisionTreeClassifier\n",
        "from sklearn import metrics\n",
        "from sklearn.metrics import ConfusionMatrixDisplay\n",
        "from imblearn.over_sampling import SMOTE\n",
        "from sklearn.ensemble import RandomForestClassifier\n",
        "from sklearn.linear_model import LogisticRegression"
      ],
      "metadata": {
        "id": "ZjvKqPvZaoyj"
      },
      "execution_count": 2,
      "outputs": []
    },
    {
      "cell_type": "code",
      "execution_count": 3,
      "metadata": {
        "id": "PSU6laokRSYe",
        "colab": {
          "base_uri": "https://localhost:8080/",
          "height": 403
        },
        "outputId": "e87dabc2-35ca-41cf-d43f-a36e50c41b13"
      },
      "outputs": [
        {
          "output_type": "execute_result",
          "data": {
            "text/plain": [
              "   Unnamed: 0                Series_Title  Released_Year  Runtime   Genre  \\\n",
              "0           2                      Avatar           2009      162  Action   \n",
              "1           4                     Titanic           1997      194   Drama   \n",
              "2           7             The Dark Knight           2008      152  Action   \n",
              "3           9       The Dark Knight Rises           2012      164  Action   \n",
              "4          10  E.T. the Extra-Terrestrial           1982      115  Family   \n",
              "\n",
              "       Genre2    Genre3  IMDB  Meta_score           Director  ...  \\\n",
              "0   Adventure   Fantasy   7.8          83      James Cameron  ...   \n",
              "1     Romance       NaN   7.8          75      James Cameron  ...   \n",
              "2       Crime     Drama   9.0          84  Christopher Nolan  ...   \n",
              "3   Adventure       NaN   8.4          78  Christopher Nolan  ...   \n",
              "4      Sci-Fi       NaN   7.8          91   Steven Spielberg  ...   \n",
              "\n",
              "   Biography Ind  Crime Ind  Sport Ind  Western Ind  Comedy Ind  Family Ind  \\\n",
              "0              0          0          0            0           0           0   \n",
              "1              0          0          0            0           0           0   \n",
              "2              0          1          0            0           0           0   \n",
              "3              0          0          0            0           0           0   \n",
              "4              0          0          0            0           0           1   \n",
              "\n",
              "   Romance Ind  Drama Ind  Animation Ind  War Ind  \n",
              "0            0          0              0        0  \n",
              "1            1          1              0        0  \n",
              "2            0          1              0        0  \n",
              "3            0          0              0        0  \n",
              "4            0          0              0        0  \n",
              "\n",
              "[5 rows x 35 columns]"
            ],
            "text/html": [
              "\n",
              "  <div id=\"df-a3788194-493e-4e31-b07d-97366bfced02\">\n",
              "    <div class=\"colab-df-container\">\n",
              "      <div>\n",
              "<style scoped>\n",
              "    .dataframe tbody tr th:only-of-type {\n",
              "        vertical-align: middle;\n",
              "    }\n",
              "\n",
              "    .dataframe tbody tr th {\n",
              "        vertical-align: top;\n",
              "    }\n",
              "\n",
              "    .dataframe thead th {\n",
              "        text-align: right;\n",
              "    }\n",
              "</style>\n",
              "<table border=\"1\" class=\"dataframe\">\n",
              "  <thead>\n",
              "    <tr style=\"text-align: right;\">\n",
              "      <th></th>\n",
              "      <th>Unnamed: 0</th>\n",
              "      <th>Series_Title</th>\n",
              "      <th>Released_Year</th>\n",
              "      <th>Runtime</th>\n",
              "      <th>Genre</th>\n",
              "      <th>Genre2</th>\n",
              "      <th>Genre3</th>\n",
              "      <th>IMDB</th>\n",
              "      <th>Meta_score</th>\n",
              "      <th>Director</th>\n",
              "      <th>...</th>\n",
              "      <th>Biography Ind</th>\n",
              "      <th>Crime Ind</th>\n",
              "      <th>Sport Ind</th>\n",
              "      <th>Western Ind</th>\n",
              "      <th>Comedy Ind</th>\n",
              "      <th>Family Ind</th>\n",
              "      <th>Romance Ind</th>\n",
              "      <th>Drama Ind</th>\n",
              "      <th>Animation Ind</th>\n",
              "      <th>War Ind</th>\n",
              "    </tr>\n",
              "  </thead>\n",
              "  <tbody>\n",
              "    <tr>\n",
              "      <th>0</th>\n",
              "      <td>2</td>\n",
              "      <td>Avatar</td>\n",
              "      <td>2009</td>\n",
              "      <td>162</td>\n",
              "      <td>Action</td>\n",
              "      <td>Adventure</td>\n",
              "      <td>Fantasy</td>\n",
              "      <td>7.8</td>\n",
              "      <td>83</td>\n",
              "      <td>James Cameron</td>\n",
              "      <td>...</td>\n",
              "      <td>0</td>\n",
              "      <td>0</td>\n",
              "      <td>0</td>\n",
              "      <td>0</td>\n",
              "      <td>0</td>\n",
              "      <td>0</td>\n",
              "      <td>0</td>\n",
              "      <td>0</td>\n",
              "      <td>0</td>\n",
              "      <td>0</td>\n",
              "    </tr>\n",
              "    <tr>\n",
              "      <th>1</th>\n",
              "      <td>4</td>\n",
              "      <td>Titanic</td>\n",
              "      <td>1997</td>\n",
              "      <td>194</td>\n",
              "      <td>Drama</td>\n",
              "      <td>Romance</td>\n",
              "      <td>NaN</td>\n",
              "      <td>7.8</td>\n",
              "      <td>75</td>\n",
              "      <td>James Cameron</td>\n",
              "      <td>...</td>\n",
              "      <td>0</td>\n",
              "      <td>0</td>\n",
              "      <td>0</td>\n",
              "      <td>0</td>\n",
              "      <td>0</td>\n",
              "      <td>0</td>\n",
              "      <td>1</td>\n",
              "      <td>1</td>\n",
              "      <td>0</td>\n",
              "      <td>0</td>\n",
              "    </tr>\n",
              "    <tr>\n",
              "      <th>2</th>\n",
              "      <td>7</td>\n",
              "      <td>The Dark Knight</td>\n",
              "      <td>2008</td>\n",
              "      <td>152</td>\n",
              "      <td>Action</td>\n",
              "      <td>Crime</td>\n",
              "      <td>Drama</td>\n",
              "      <td>9.0</td>\n",
              "      <td>84</td>\n",
              "      <td>Christopher Nolan</td>\n",
              "      <td>...</td>\n",
              "      <td>0</td>\n",
              "      <td>1</td>\n",
              "      <td>0</td>\n",
              "      <td>0</td>\n",
              "      <td>0</td>\n",
              "      <td>0</td>\n",
              "      <td>0</td>\n",
              "      <td>1</td>\n",
              "      <td>0</td>\n",
              "      <td>0</td>\n",
              "    </tr>\n",
              "    <tr>\n",
              "      <th>3</th>\n",
              "      <td>9</td>\n",
              "      <td>The Dark Knight Rises</td>\n",
              "      <td>2012</td>\n",
              "      <td>164</td>\n",
              "      <td>Action</td>\n",
              "      <td>Adventure</td>\n",
              "      <td>NaN</td>\n",
              "      <td>8.4</td>\n",
              "      <td>78</td>\n",
              "      <td>Christopher Nolan</td>\n",
              "      <td>...</td>\n",
              "      <td>0</td>\n",
              "      <td>0</td>\n",
              "      <td>0</td>\n",
              "      <td>0</td>\n",
              "      <td>0</td>\n",
              "      <td>0</td>\n",
              "      <td>0</td>\n",
              "      <td>0</td>\n",
              "      <td>0</td>\n",
              "      <td>0</td>\n",
              "    </tr>\n",
              "    <tr>\n",
              "      <th>4</th>\n",
              "      <td>10</td>\n",
              "      <td>E.T. the Extra-Terrestrial</td>\n",
              "      <td>1982</td>\n",
              "      <td>115</td>\n",
              "      <td>Family</td>\n",
              "      <td>Sci-Fi</td>\n",
              "      <td>NaN</td>\n",
              "      <td>7.8</td>\n",
              "      <td>91</td>\n",
              "      <td>Steven Spielberg</td>\n",
              "      <td>...</td>\n",
              "      <td>0</td>\n",
              "      <td>0</td>\n",
              "      <td>0</td>\n",
              "      <td>0</td>\n",
              "      <td>0</td>\n",
              "      <td>1</td>\n",
              "      <td>0</td>\n",
              "      <td>0</td>\n",
              "      <td>0</td>\n",
              "      <td>0</td>\n",
              "    </tr>\n",
              "  </tbody>\n",
              "</table>\n",
              "<p>5 rows × 35 columns</p>\n",
              "</div>\n",
              "      <button class=\"colab-df-convert\" onclick=\"convertToInteractive('df-a3788194-493e-4e31-b07d-97366bfced02')\"\n",
              "              title=\"Convert this dataframe to an interactive table.\"\n",
              "              style=\"display:none;\">\n",
              "        \n",
              "  <svg xmlns=\"http://www.w3.org/2000/svg\" height=\"24px\"viewBox=\"0 0 24 24\"\n",
              "       width=\"24px\">\n",
              "    <path d=\"M0 0h24v24H0V0z\" fill=\"none\"/>\n",
              "    <path d=\"M18.56 5.44l.94 2.06.94-2.06 2.06-.94-2.06-.94-.94-2.06-.94 2.06-2.06.94zm-11 1L8.5 8.5l.94-2.06 2.06-.94-2.06-.94L8.5 2.5l-.94 2.06-2.06.94zm10 10l.94 2.06.94-2.06 2.06-.94-2.06-.94-.94-2.06-.94 2.06-2.06.94z\"/><path d=\"M17.41 7.96l-1.37-1.37c-.4-.4-.92-.59-1.43-.59-.52 0-1.04.2-1.43.59L10.3 9.45l-7.72 7.72c-.78.78-.78 2.05 0 2.83L4 21.41c.39.39.9.59 1.41.59.51 0 1.02-.2 1.41-.59l7.78-7.78 2.81-2.81c.8-.78.8-2.07 0-2.86zM5.41 20L4 18.59l7.72-7.72 1.47 1.35L5.41 20z\"/>\n",
              "  </svg>\n",
              "      </button>\n",
              "      \n",
              "  <style>\n",
              "    .colab-df-container {\n",
              "      display:flex;\n",
              "      flex-wrap:wrap;\n",
              "      gap: 12px;\n",
              "    }\n",
              "\n",
              "    .colab-df-convert {\n",
              "      background-color: #E8F0FE;\n",
              "      border: none;\n",
              "      border-radius: 50%;\n",
              "      cursor: pointer;\n",
              "      display: none;\n",
              "      fill: #1967D2;\n",
              "      height: 32px;\n",
              "      padding: 0 0 0 0;\n",
              "      width: 32px;\n",
              "    }\n",
              "\n",
              "    .colab-df-convert:hover {\n",
              "      background-color: #E2EBFA;\n",
              "      box-shadow: 0px 1px 2px rgba(60, 64, 67, 0.3), 0px 1px 3px 1px rgba(60, 64, 67, 0.15);\n",
              "      fill: #174EA6;\n",
              "    }\n",
              "\n",
              "    [theme=dark] .colab-df-convert {\n",
              "      background-color: #3B4455;\n",
              "      fill: #D2E3FC;\n",
              "    }\n",
              "\n",
              "    [theme=dark] .colab-df-convert:hover {\n",
              "      background-color: #434B5C;\n",
              "      box-shadow: 0px 1px 3px 1px rgba(0, 0, 0, 0.15);\n",
              "      filter: drop-shadow(0px 1px 2px rgba(0, 0, 0, 0.3));\n",
              "      fill: #FFFFFF;\n",
              "    }\n",
              "  </style>\n",
              "\n",
              "      <script>\n",
              "        const buttonEl =\n",
              "          document.querySelector('#df-a3788194-493e-4e31-b07d-97366bfced02 button.colab-df-convert');\n",
              "        buttonEl.style.display =\n",
              "          google.colab.kernel.accessAllowed ? 'block' : 'none';\n",
              "\n",
              "        async function convertToInteractive(key) {\n",
              "          const element = document.querySelector('#df-a3788194-493e-4e31-b07d-97366bfced02');\n",
              "          const dataTable =\n",
              "            await google.colab.kernel.invokeFunction('convertToInteractive',\n",
              "                                                     [key], {});\n",
              "          if (!dataTable) return;\n",
              "\n",
              "          const docLinkHtml = 'Like what you see? Visit the ' +\n",
              "            '<a target=\"_blank\" href=https://colab.research.google.com/notebooks/data_table.ipynb>data table notebook</a>'\n",
              "            + ' to learn more about interactive tables.';\n",
              "          element.innerHTML = '';\n",
              "          dataTable['output_type'] = 'display_data';\n",
              "          await google.colab.output.renderOutput(dataTable, element);\n",
              "          const docLink = document.createElement('div');\n",
              "          docLink.innerHTML = docLinkHtml;\n",
              "          element.appendChild(docLink);\n",
              "        }\n",
              "      </script>\n",
              "    </div>\n",
              "  </div>\n",
              "  "
            ]
          },
          "metadata": {},
          "execution_count": 3
        }
      ],
      "source": [
        "df = pd.read_csv('ml_workshop.csv')\n",
        "df.head()"
      ]
    },
    {
      "cell_type": "code",
      "source": [
        "X = df.drop('Inflation-Adjusted Gross',axis=1)\n",
        "y = df['Inflation-Adjusted Gross']"
      ],
      "metadata": {
        "id": "OT-bz40rCLnB"
      },
      "execution_count": 4,
      "outputs": []
    },
    {
      "cell_type": "code",
      "source": [
        "X_train, X_test, y_train, y_test = train_test_split(X, y, test_size=0.20, random_state=100)\n",
        "model = LinearRegression()"
      ],
      "metadata": {
        "id": "D8RqHW4XB4ZY"
      },
      "execution_count": 5,
      "outputs": []
    },
    {
      "cell_type": "code",
      "source": [
        "genre_test=X_test[[\"Biography Ind\", \"Crime Ind\", \"Sport Ind\", \"Western Ind\", \"Comedy Ind\", \"Family Ind\", \"Romance Ind\", \"Drama Ind\", \"Animation Ind\", \"War Ind\", \"Action Ind\", \"Sci-Fi Ind\", \"Thriller Ind\", \"Musical Ind\"]]\n",
        "genre_train=X_train[[\"Biography Ind\", \"Crime Ind\", \"Sport Ind\", \"Western Ind\", \"Comedy Ind\", \"Family Ind\", \"Romance Ind\", \"Drama Ind\", \"Animation Ind\", \"War Ind\", \"Action Ind\", \"Sci-Fi Ind\", \"Thriller Ind\", \"Musical Ind\"]]"
      ],
      "metadata": {
        "id": "mLNlCBPCiMAA"
      },
      "execution_count": 6,
      "outputs": []
    },
    {
      "cell_type": "code",
      "source": [
        "genre_train[genre_train.isna().any(axis=1)]"
      ],
      "metadata": {
        "colab": {
          "base_uri": "https://localhost:8080/",
          "height": 49
        },
        "id": "GQj9ShV2jLyj",
        "outputId": "e117e660-9ac5-4896-b667-fa13a32791b3"
      },
      "execution_count": 7,
      "outputs": [
        {
          "output_type": "execute_result",
          "data": {
            "text/plain": [
              "Empty DataFrame\n",
              "Columns: [Biography Ind, Crime Ind, Sport Ind, Western Ind, Comedy Ind, Family Ind, Romance Ind, Drama Ind, Animation Ind, War Ind, Action Ind, Sci-Fi Ind, Thriller Ind, Musical Ind]\n",
              "Index: []"
            ],
            "text/html": [
              "\n",
              "  <div id=\"df-7f0e296a-e317-4534-8b53-74bd3702ac42\">\n",
              "    <div class=\"colab-df-container\">\n",
              "      <div>\n",
              "<style scoped>\n",
              "    .dataframe tbody tr th:only-of-type {\n",
              "        vertical-align: middle;\n",
              "    }\n",
              "\n",
              "    .dataframe tbody tr th {\n",
              "        vertical-align: top;\n",
              "    }\n",
              "\n",
              "    .dataframe thead th {\n",
              "        text-align: right;\n",
              "    }\n",
              "</style>\n",
              "<table border=\"1\" class=\"dataframe\">\n",
              "  <thead>\n",
              "    <tr style=\"text-align: right;\">\n",
              "      <th></th>\n",
              "      <th>Biography Ind</th>\n",
              "      <th>Crime Ind</th>\n",
              "      <th>Sport Ind</th>\n",
              "      <th>Western Ind</th>\n",
              "      <th>Comedy Ind</th>\n",
              "      <th>Family Ind</th>\n",
              "      <th>Romance Ind</th>\n",
              "      <th>Drama Ind</th>\n",
              "      <th>Animation Ind</th>\n",
              "      <th>War Ind</th>\n",
              "      <th>Action Ind</th>\n",
              "      <th>Sci-Fi Ind</th>\n",
              "      <th>Thriller Ind</th>\n",
              "      <th>Musical Ind</th>\n",
              "    </tr>\n",
              "  </thead>\n",
              "  <tbody>\n",
              "  </tbody>\n",
              "</table>\n",
              "</div>\n",
              "      <button class=\"colab-df-convert\" onclick=\"convertToInteractive('df-7f0e296a-e317-4534-8b53-74bd3702ac42')\"\n",
              "              title=\"Convert this dataframe to an interactive table.\"\n",
              "              style=\"display:none;\">\n",
              "        \n",
              "  <svg xmlns=\"http://www.w3.org/2000/svg\" height=\"24px\"viewBox=\"0 0 24 24\"\n",
              "       width=\"24px\">\n",
              "    <path d=\"M0 0h24v24H0V0z\" fill=\"none\"/>\n",
              "    <path d=\"M18.56 5.44l.94 2.06.94-2.06 2.06-.94-2.06-.94-.94-2.06-.94 2.06-2.06.94zm-11 1L8.5 8.5l.94-2.06 2.06-.94-2.06-.94L8.5 2.5l-.94 2.06-2.06.94zm10 10l.94 2.06.94-2.06 2.06-.94-2.06-.94-.94-2.06-.94 2.06-2.06.94z\"/><path d=\"M17.41 7.96l-1.37-1.37c-.4-.4-.92-.59-1.43-.59-.52 0-1.04.2-1.43.59L10.3 9.45l-7.72 7.72c-.78.78-.78 2.05 0 2.83L4 21.41c.39.39.9.59 1.41.59.51 0 1.02-.2 1.41-.59l7.78-7.78 2.81-2.81c.8-.78.8-2.07 0-2.86zM5.41 20L4 18.59l7.72-7.72 1.47 1.35L5.41 20z\"/>\n",
              "  </svg>\n",
              "      </button>\n",
              "      \n",
              "  <style>\n",
              "    .colab-df-container {\n",
              "      display:flex;\n",
              "      flex-wrap:wrap;\n",
              "      gap: 12px;\n",
              "    }\n",
              "\n",
              "    .colab-df-convert {\n",
              "      background-color: #E8F0FE;\n",
              "      border: none;\n",
              "      border-radius: 50%;\n",
              "      cursor: pointer;\n",
              "      display: none;\n",
              "      fill: #1967D2;\n",
              "      height: 32px;\n",
              "      padding: 0 0 0 0;\n",
              "      width: 32px;\n",
              "    }\n",
              "\n",
              "    .colab-df-convert:hover {\n",
              "      background-color: #E2EBFA;\n",
              "      box-shadow: 0px 1px 2px rgba(60, 64, 67, 0.3), 0px 1px 3px 1px rgba(60, 64, 67, 0.15);\n",
              "      fill: #174EA6;\n",
              "    }\n",
              "\n",
              "    [theme=dark] .colab-df-convert {\n",
              "      background-color: #3B4455;\n",
              "      fill: #D2E3FC;\n",
              "    }\n",
              "\n",
              "    [theme=dark] .colab-df-convert:hover {\n",
              "      background-color: #434B5C;\n",
              "      box-shadow: 0px 1px 3px 1px rgba(0, 0, 0, 0.15);\n",
              "      filter: drop-shadow(0px 1px 2px rgba(0, 0, 0, 0.3));\n",
              "      fill: #FFFFFF;\n",
              "    }\n",
              "  </style>\n",
              "\n",
              "      <script>\n",
              "        const buttonEl =\n",
              "          document.querySelector('#df-7f0e296a-e317-4534-8b53-74bd3702ac42 button.colab-df-convert');\n",
              "        buttonEl.style.display =\n",
              "          google.colab.kernel.accessAllowed ? 'block' : 'none';\n",
              "\n",
              "        async function convertToInteractive(key) {\n",
              "          const element = document.querySelector('#df-7f0e296a-e317-4534-8b53-74bd3702ac42');\n",
              "          const dataTable =\n",
              "            await google.colab.kernel.invokeFunction('convertToInteractive',\n",
              "                                                     [key], {});\n",
              "          if (!dataTable) return;\n",
              "\n",
              "          const docLinkHtml = 'Like what you see? Visit the ' +\n",
              "            '<a target=\"_blank\" href=https://colab.research.google.com/notebooks/data_table.ipynb>data table notebook</a>'\n",
              "            + ' to learn more about interactive tables.';\n",
              "          element.innerHTML = '';\n",
              "          dataTable['output_type'] = 'display_data';\n",
              "          await google.colab.output.renderOutput(dataTable, element);\n",
              "          const docLink = document.createElement('div');\n",
              "          docLink.innerHTML = docLinkHtml;\n",
              "          element.appendChild(docLink);\n",
              "        }\n",
              "      </script>\n",
              "    </div>\n",
              "  </div>\n",
              "  "
            ]
          },
          "metadata": {},
          "execution_count": 7
        }
      ]
    },
    {
      "cell_type": "code",
      "source": [
        "y_train= y_train.dropna()\n",
        "genre_train = genre_train.dropna()\n",
        "genre_test = genre_test.dropna()\n",
        "y_test = y_test.dropna()"
      ],
      "metadata": {
        "id": "MVVUgiiYgaKb"
      },
      "execution_count": 8,
      "outputs": []
    },
    {
      "cell_type": "code",
      "source": [
        "model.fit(genre_train, y_train)\n",
        "all_genre_preds = model.predict(genre_test)"
      ],
      "metadata": {
        "id": "caphuGrICt67"
      },
      "execution_count": 9,
      "outputs": []
    },
    {
      "cell_type": "code",
      "source": [
        "all_genre_MSE = mean_squared_error(y_test, all_genre_preds)\n",
        "all_genre_RMSE = np.sqrt(all_genre_MSE)\n",
        "print(all_genre_RMSE)"
      ],
      "metadata": {
        "colab": {
          "base_uri": "https://localhost:8080/"
        },
        "id": "NH6JCubnDvui",
        "outputId": "ce982334-79fa-4a8f-b9a8-a848efcc34fd"
      },
      "execution_count": 10,
      "outputs": [
        {
          "output_type": "stream",
          "name": "stdout",
          "text": [
            "91204319.91611844\n"
          ]
        }
      ]
    },
    {
      "cell_type": "code",
      "source": [
        "all_genre_r2=r2(y_test, all_genre_preds)\n",
        "all_genre_ar2 = 1 - (1-all_genre_r2)*(len(y_test)-1)/(len(y_test)-genre_test.shape[1]-1)\n",
        "print(\"R2:\",all_genre_r2, \"Adjusted R2:\", all_genre_ar2)"
      ],
      "metadata": {
        "id": "HGAWdXKKUV0I",
        "outputId": "77dd4347-ef0a-4aa1-d163-d5be734cd8f4",
        "colab": {
          "base_uri": "https://localhost:8080/"
        }
      },
      "execution_count": 11,
      "outputs": [
        {
          "output_type": "stream",
          "name": "stdout",
          "text": [
            "R2: 0.09026275929102257 Adjusted R2: -0.004080361967686352\n"
          ]
        }
      ]
    },
    {
      "cell_type": "code",
      "source": [
        "X_trainer = X_train[['No_of_Votes', 'Famous Director Ind', \"IMDB\", 'Action Ind']]\n",
        "X_tester = X_test[['No_of_Votes', 'Famous Director Ind', 'IMDB', 'Action Ind']]\n",
        "model.fit(X_trainer, y_train)\n",
        "votes_dir_preds = model.predict(X_tester)\n",
        "\n",
        "MSE = mean_squared_error(y_test, votes_dir_preds)\n",
        "RMSE = np.sqrt(MSE)\n",
        "print(RMSE)\n",
        "\n",
        "new_r2=r2(y_test, votes_dir_preds)\n",
        "new_ar2 = 1 - (1-new_r2)*(len(y_test)-1)/(len(y_test)-X_trainer.shape[1]-1)\n",
        "print(\"R2:\",new_r2, \"Adjusted R2:\", new_ar2)"
      ],
      "metadata": {
        "colab": {
          "base_uri": "https://localhost:8080/"
        },
        "id": "IYtyAFPIy-YX",
        "outputId": "f645ca85-92bf-4aea-cf39-565064b18471"
      },
      "execution_count": 12,
      "outputs": [
        {
          "output_type": "stream",
          "name": "stdout",
          "text": [
            "90596655.29228646\n",
            "R2: 0.10234493972340786 Adjusted R2: 0.07758204150888115\n"
          ]
        }
      ]
    },
    {
      "cell_type": "code",
      "source": [
        "X = df[['IMDB','Famous Director Ind', 'Action Ind', 'Family Ind']]\n",
        "y = df['Blockbuster']"
      ],
      "metadata": {
        "id": "iBoUaVnCa9cK"
      },
      "execution_count": 13,
      "outputs": []
    },
    {
      "cell_type": "code",
      "source": [
        "X_train_res, X_test_res, y_train_res, y_test_res = train_test_split(X, y, test_size=0.20, random_state=100)"
      ],
      "metadata": {
        "id": "uJ71AtX_a1Tp"
      },
      "execution_count": 14,
      "outputs": []
    },
    {
      "cell_type": "code",
      "source": [
        "# Oversamples blockbuster\n",
        "sm = SMOTE(sampling_strategy='minority', random_state = 2)\n",
        "X_train_res, y_train_res = sm.fit_resample(X_train_res, y_train_res)"
      ],
      "metadata": {
        "id": "Pyh6KbbSeFhY"
      },
      "execution_count": 15,
      "outputs": []
    },
    {
      "cell_type": "code",
      "source": [
        "# Blockbuster is 90th percentile of earnings\n",
        "# Classification, y is whether or not a blockbuster\n",
        "# Uses a decision tree to predict cases of fraud\n",
        "\n",
        "classification_tree = DecisionTreeClassifier()\n",
        "classification_tree = classification_tree.fit(X_train_res, y_train_res)\n",
        "y_pred = classification_tree.predict(X_test_res)"
      ],
      "metadata": {
        "id": "G86zsDhIOrVa"
      },
      "execution_count": 16,
      "outputs": []
    },
    {
      "cell_type": "code",
      "source": [
        "# Prints classification report and confusion matrix\n",
        "print(metrics.classification_report(y_test_res, y_pred))\n",
        "ConfusionMatrixDisplay.from_predictions(y_test_res, y_pred)"
      ],
      "metadata": {
        "id": "FW6vKd7wPIhb",
        "colab": {
          "base_uri": "https://localhost:8080/",
          "height": 623
        },
        "outputId": "6a11d3ab-9360-4b13-fc47-988706d36002"
      },
      "execution_count": 17,
      "outputs": [
        {
          "output_type": "stream",
          "name": "stdout",
          "text": [
            "              precision    recall  f1-score   support\n",
            "\n",
            "           0       0.92      0.93      0.92       135\n",
            "           1       0.29      0.27      0.28        15\n",
            "\n",
            "    accuracy                           0.86       150\n",
            "   macro avg       0.60      0.60      0.60       150\n",
            "weighted avg       0.86      0.86      0.86       150\n",
            "\n"
          ]
        },
        {
          "output_type": "execute_result",
          "data": {
            "text/plain": [
              "<sklearn.metrics._plot.confusion_matrix.ConfusionMatrixDisplay at 0x7efc569ed390>"
            ]
          },
          "metadata": {},
          "execution_count": 17
        },
        {
          "output_type": "display_data",
          "data": {
            "text/plain": [
              "<Figure size 640x480 with 2 Axes>"
            ],
            "image/png": "[encoded data removed]"
          },
          "metadata": {}
        }
      ]
    },
    {
      "cell_type": "code",
      "source": [
        "# Creates Random Forest model to predict cases of fraud\n",
        "random_forest = RandomForestClassifier(max_features=5, max_samples=0.75, random_state=5)\n",
        "random_forest.fit(X_train_res, y_train_res)\n",
        "\n",
        "y_pred = random_forest.predict(X_test_res)"
      ],
      "metadata": {
        "id": "k8m1PHHSeXxo"
      },
      "execution_count": 18,
      "outputs": []
    },
    {
      "cell_type": "code",
      "source": [
        "# Prints classification report and confusion matrix\n",
        "print(metrics.classification_report(y_test_res, y_pred))\n",
        "ConfusionMatrixDisplay.from_predictions(y_test_res, y_pred)"
      ],
      "metadata": {
        "colab": {
          "base_uri": "https://localhost:8080/",
          "height": 623
        },
        "id": "XQRtChQ5ewRp",
        "outputId": "89082d7e-9a3e-43d9-8d73-31bc823ee624"
      },
      "execution_count": 19,
      "outputs": [
        {
          "output_type": "stream",
          "name": "stdout",
          "text": [
            "              precision    recall  f1-score   support\n",
            "\n",
            "           0       0.94      0.92      0.93       135\n",
            "           1       0.39      0.47      0.42        15\n",
            "\n",
            "    accuracy                           0.87       150\n",
            "   macro avg       0.66      0.69      0.68       150\n",
            "weighted avg       0.88      0.87      0.88       150\n",
            "\n"
          ]
        },
        {
          "output_type": "execute_result",
          "data": {
            "text/plain": [
              "<sklearn.metrics._plot.confusion_matrix.ConfusionMatrixDisplay at 0x7efc569ed870>"
            ]
          },
          "metadata": {},
          "execution_count": 19
        },
        {
          "output_type": "display_data",
          "data": {
            "text/plain": [
              "<Figure size 640x480 with 2 Axes>"
            ],
            "image/png": "[encoded data removed]"
          },
          "metadata": {}
        }
      ]
    },
    {
      "cell_type": "code",
      "source": [
        "print(classification_tree.feature_importances_)\n",
        "print(classification_tree.feature_names_in_)"
      ],
      "metadata": {
        "colab": {
          "base_uri": "https://localhost:8080/"
        },
        "id": "9Zj_72Ai0-BE",
        "outputId": "1709e98a-f1b0-4d97-ebe4-53cbcf1d7f7d"
      },
      "execution_count": 20,
      "outputs": [
        {
          "output_type": "stream",
          "name": "stdout",
          "text": [
            "[0.65368022 0.03554832 0.18901302 0.12175845]\n",
            "['IMDB' 'Famous Director Ind' 'Action Ind' 'Family Ind']\n"
          ]
        }
      ]
    },
    {
      "cell_type": "code",
      "source": [
        "print(random_forest.feature_importances_)\n",
        "print(random_forest.feature_names_in_)"
      ],
      "metadata": {
        "colab": {
          "base_uri": "https://localhost:8080/"
        },
        "id": "oJqAO0De130I",
        "outputId": "0a4ff692-3b4e-4c1f-fb99-ab29653c4f0e"
      },
      "execution_count": 21,
      "outputs": [
        {
          "output_type": "stream",
          "name": "stdout",
          "text": [
            "[0.66454383 0.04012742 0.18240126 0.11292749]\n",
            "['IMDB' 'Famous Director Ind' 'Action Ind' 'Family Ind']\n"
          ]
        }
      ]
    }
  ]
}